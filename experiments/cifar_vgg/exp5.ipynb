{
 "cells": [
  {
   "cell_type": "code",
   "execution_count": 1,
   "metadata": {},
   "outputs": [
    {
     "name": "stderr",
     "output_type": "stream",
     "text": [
      "2022-08-02 16:28:10.745338: W tensorflow/stream_executor/platform/default/dso_loader.cc:64] Could not load dynamic library 'libcudart.so.11.0'; dlerror: libcudart.so.11.0: cannot open shared object file: No such file or directory\n",
      "/home/robert/coherence/.env/lib/python3.8/site-packages/tqdm/auto.py:22: TqdmWarning: IProgress not found. Please update jupyter and ipywidgets. See https://ipywidgets.readthedocs.io/en/stable/user_install.html\n",
      "  from .autonotebook import tqdm as notebook_tqdm\n"
     ]
    }
   ],
   "source": [
    "from typing import Tuple\n",
    "from coherence.custom_types import Batch\n",
    "\n",
    "from tqdm.notebook import tqdm\n",
    "\n",
    "import jax\n",
    "import jax.numpy as jnp\n",
    "\n",
    "import haiku as hk\n",
    "import optax\n",
    "\n",
    "from coherence.data import get_data, decimate, normalize, sanitize, get_data_by_class\n",
    "from coherence.train_with_state import network_and_loss, do_training, update_params, net_accuracy\n",
    "from coherence.models.cnn import cifar_vgg_11_fn\n",
    "\n",
    "import coherence.pruning as pr\n",
    "import coherence.coherence as cr\n",
    "\n",
    "from coherence.utils import ravel_pytree\n",
    "\n",
    "from functools import partial\n"
   ]
  },
  {
   "cell_type": "code",
   "execution_count": 3,
   "metadata": {},
   "outputs": [
    {
     "name": "stderr",
     "output_type": "stream",
     "text": [
      "2022-08-02 16:30:13.325087: W tensorflow/stream_executor/platform/default/dso_loader.cc:64] Could not load dynamic library 'libcuda.so.1'; dlerror: libcuda.so.1: cannot open shared object file: No such file or directory\n",
      "2022-08-02 16:30:13.325152: W tensorflow/stream_executor/cuda/cuda_driver.cc:269] failed call to cuInit: UNKNOWN ERROR (303)\n",
      "WARNING:absl:No GPU/TPU found, falling back to CPU. (Set TF_CPP_MIN_LOG_LEVEL=0 and rerun for more info.)\n"
     ]
    }
   ],
   "source": [
    "# load mnist data\n",
    "train, train_eval, test_eval = get_data(\"cifar10\",batch_size=100,format_fun=sanitize)\n",
    "\n",
    "dsets_by_class = get_data_by_class(\"cifar10\",batch_size=100,format_fun=sanitize)\n",
    "\n",
    "# cnn, loss, params\n",
    "net, xent_loss = network_and_loss(cifar_vgg_11_fn)\n",
    "\n",
    "key = jax.random.PRNGKey(42)\n",
    "params, state = net.init(key, next(train)[\"image\"])"
   ]
  },
  {
   "cell_type": "code",
   "execution_count": 11,
   "metadata": {},
   "outputs": [
    {
     "name": "stdout",
     "output_type": "stream",
     "text": [
      "{'mlp/~/conv_0/~/batch_norm': {'offset': 1, 'scale': 1}, 'mlp/~/conv_0/~/conv2_d': {'b': None, 'w': None}, 'mlp/~/conv_10/~/batch_norm': {'offset': 1, 'scale': 1}, 'mlp/~/conv_10/~/conv2_d': {'b': None, 'w': None}, 'mlp/~/conv_11/~/batch_norm': {'offset': 1, 'scale': 1}, 'mlp/~/conv_11/~/conv2_d': {'b': None, 'w': None}, 'mlp/~/conv_2/~/batch_norm': {'offset': 1, 'scale': 1}, 'mlp/~/conv_2/~/conv2_d': {'b': None, 'w': None}, 'mlp/~/conv_4/~/batch_norm': {'offset': 1, 'scale': 1}, 'mlp/~/conv_4/~/conv2_d': {'b': None, 'w': None}, 'mlp/~/conv_5/~/batch_norm': {'offset': 1, 'scale': 1}, 'mlp/~/conv_5/~/conv2_d': {'b': None, 'w': None}, 'mlp/~/conv_7/~/batch_norm': {'offset': 1, 'scale': 1}, 'mlp/~/conv_7/~/conv2_d': {'b': None, 'w': None}, 'mlp/~/conv_8/~/batch_norm': {'offset': 1, 'scale': 1}, 'mlp/~/conv_8/~/conv2_d': {'b': None, 'w': None}, 'mlp/~/linear': {'b': None, 'w': None}}\n"
     ]
    }
   ],
   "source": [
    "rules = [pr.Rule('batch_norm',1)]\n",
    "plan = pr.create_plan(params,rules,default_value=None)\n",
    "default_mask = pr.init_mask(params)\n",
    "print(plan)\n",
    "\n",
    "b = pr.apply_where(plan,lambda _:1, params)"
   ]
  }
 ],
 "metadata": {
  "kernelspec": {
   "display_name": "Python 3.8.10 ('.env': venv)",
   "language": "python",
   "name": "python3"
  },
  "language_info": {
   "codemirror_mode": {
    "name": "ipython",
    "version": 3
   },
   "file_extension": ".py",
   "mimetype": "text/x-python",
   "name": "python",
   "nbconvert_exporter": "python",
   "pygments_lexer": "ipython3",
   "version": "3.8.10"
  },
  "orig_nbformat": 4,
  "vscode": {
   "interpreter": {
    "hash": "a67b96857c643ccdf3882a8bb2035047f1dbcf8da08008cf0e861a5c02cc2d97"
   }
  }
 },
 "nbformat": 4,
 "nbformat_minor": 2
}
