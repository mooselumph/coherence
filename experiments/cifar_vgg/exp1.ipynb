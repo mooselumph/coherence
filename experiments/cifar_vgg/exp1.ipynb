{
 "cells": [
  {
   "cell_type": "code",
   "execution_count": 1,
   "metadata": {},
   "outputs": [
    {
     "name": "stderr",
     "output_type": "stream",
     "text": [
      "2022-07-23 14:52:16.564116: W tensorflow/stream_executor/platform/default/dso_loader.cc:64] Could not load dynamic library 'libcudart.so.11.0'; dlerror: libcudart.so.11.0: cannot open shared object file: No such file or directory\n",
      "/home/robert/coherence/.env/lib/python3.8/site-packages/tqdm/auto.py:22: TqdmWarning: IProgress not found. Please update jupyter and ipywidgets. See https://ipywidgets.readthedocs.io/en/stable/user_install.html\n",
      "  from .autonotebook import tqdm as notebook_tqdm\n"
     ]
    }
   ],
   "source": [
    "import jax\n",
    "import optax\n",
    "\n",
    "from coherence.data import get_data, decimate, normalize, sanitize\n",
    "from coherence.train_with_state import network_and_loss, do_training, update_params, net_accuracy\n",
    "from coherence.models.cnn import cifar_vgg_11_fn\n",
    "from coherence.models.mlp import lenet_fn"
   ]
  },
  {
   "cell_type": "code",
   "execution_count": null,
   "metadata": {},
   "outputs": [],
   "source": [
    "# load mnist data\n",
    "train, train_eval, test_eval = get_data(\"cifar10\",batch_size=20,format_fun=sanitize)"
   ]
  },
  {
   "cell_type": "code",
   "execution_count": null,
   "metadata": {},
   "outputs": [],
   "source": [
    "\n",
    "# cnn, loss, params\n",
    "net, xent_loss = network_and_loss(cifar_vgg_11_fn)\n",
    "params, state = net.init(jax.random.PRNGKey(42), next(train)[\"image\"])\n",
    "\n",
    "# optimization of network\n",
    "opt = optax.adam(1e-3)\n",
    "\n",
    "accuracy_fn = net_accuracy(net)\n",
    "update_fn = update_params(opt,xent_loss)\n",
    "opt_state = opt.init(params)\n",
    "\n",
    "# train cnn\n",
    "def fun():\n",
    "    final_params = do_training(update_fn, accuracy_fn, params, state, opt_state, train, train_eval, test_eval, epochs=1001, print_epoch=50)\n",
    "    return final_params\n",
    "\n",
    "fun()\n"
   ]
  }
 ],
 "metadata": {
  "kernelspec": {
   "display_name": "Python 3.8.10 ('.env': venv)",
   "language": "python",
   "name": "python3"
  },
  "language_info": {
   "codemirror_mode": {
    "name": "ipython",
    "version": 3
   },
   "file_extension": ".py",
   "mimetype": "text/x-python",
   "name": "python",
   "nbconvert_exporter": "python",
   "pygments_lexer": "ipython3",
   "version": "3.8.10"
  },
  "orig_nbformat": 4,
  "vscode": {
   "interpreter": {
    "hash": "a67b96857c643ccdf3882a8bb2035047f1dbcf8da08008cf0e861a5c02cc2d97"
   }
  }
 },
 "nbformat": 4,
 "nbformat_minor": 2
}
