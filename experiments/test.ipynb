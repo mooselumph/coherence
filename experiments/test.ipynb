{
 "cells": [
  {
   "cell_type": "code",
   "execution_count": 30,
   "metadata": {},
   "outputs": [
    {
     "name": "stdout",
     "output_type": "stream",
     "text": [
      "(3, 3, 5)\n",
      "[[0 1 2]\n",
      " [3 4 5]\n",
      " [6 7 8]]\n",
      "[[ 0  1  2 10 11 12 20 21 22 30 31 32 40 41 42]\n",
      " [ 3  4  5 13 14 15 23 24 25 33 34 35 43 44 45]\n",
      " [ 6  7  8 16 17 18 26 27 28 36 37 38 46 47 48]]\n"
     ]
    }
   ],
   "source": [
    "import numpy as np\n",
    "\n",
    "n = np.arange(9)\n",
    "a = n.reshape((3,3,1))\n",
    "a\n",
    "\n",
    "b = ((np.arange(5))*10).reshape((1,1,-1))\n",
    "c = a+b\n",
    "print(c.shape)\n",
    "print(c[:,:,0])\n",
    "d = c.reshape((3,15),order='F')\n",
    "print(d)"
   ]
  }
 ],
 "metadata": {
  "kernelspec": {
   "display_name": "Python 3.8.10 ('.env': venv)",
   "language": "python",
   "name": "python3"
  },
  "language_info": {
   "codemirror_mode": {
    "name": "ipython",
    "version": 3
   },
   "file_extension": ".py",
   "mimetype": "text/x-python",
   "name": "python",
   "nbconvert_exporter": "python",
   "pygments_lexer": "ipython3",
   "version": "3.8.10"
  },
  "orig_nbformat": 4,
  "vscode": {
   "interpreter": {
    "hash": "a67b96857c643ccdf3882a8bb2035047f1dbcf8da08008cf0e861a5c02cc2d97"
   }
  }
 },
 "nbformat": 4,
 "nbformat_minor": 2
}
