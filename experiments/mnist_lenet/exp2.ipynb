{
 "cells": [
  {
   "cell_type": "code",
   "execution_count": 2,
   "metadata": {},
   "outputs": [],
   "source": [
    "from typing import Tuple\n",
    "from coherence.custom_types import Batch\n",
    "\n",
    "import jax\n",
    "import jax.numpy as jnp\n",
    "\n",
    "import haiku as hk\n",
    "import optax\n",
    "\n",
    "from coherence.data import get_data, decimate, normalize\n",
    "from coherence.train import network_and_loss, do_training, update_params, net_accuracy\n",
    "from coherence.models.mlp import lenet_fn\n",
    "\n",
    "from coherence.pruning import masked_update, imp, global_threshold_prune\n",
    "\n",
    "from coherence.coherence import ptwise, get_coherence, subnetwork_coherence\n",
    "\n",
    "from functools import partial"
   ]
  },
  {
   "cell_type": "code",
   "execution_count": 5,
   "metadata": {},
   "outputs": [
    {
     "name": "stderr",
     "output_type": "stream",
     "text": [
      "2022-07-19 20:56:22.024271: W tensorflow/stream_executor/platform/default/dso_loader.cc:64] Could not load dynamic library 'libcuda.so.1'; dlerror: libcuda.so.1: cannot open shared object file: No such file or directory\n",
      "2022-07-19 20:56:22.024327: W tensorflow/stream_executor/cuda/cuda_driver.cc:269] failed call to cuInit: UNKNOWN ERROR (303)\n",
      "WARNING:absl:No GPU/TPU found, falling back to CPU. (Set TF_CPP_MIN_LOG_LEVEL=0 and rerun for more info.)\n"
     ]
    },
    {
     "name": "stdout",
     "output_type": "stream",
     "text": [
      "[Step 0] Train / Test accuracy: 0.130 / 0.110.\n",
      "[Step 1000] Train / Test accuracy: 0.970 / 0.980.\n",
      "266610\n",
      "[Step 0] Train / Test accuracy: 0.150 / 0.080.\n",
      "[Step 1000] Train / Test accuracy: 0.970 / 0.970.\n",
      "13329\n",
      "[Step 0] Train / Test accuracy: 0.160 / 0.150.\n",
      "[Step 1000] Train / Test accuracy: 0.960 / 0.960.\n",
      "cs_in:  [DeviceArray(0.00139763, dtype=float32), DeviceArray(0.00241729, dtype=float32), DeviceArray(0.00210144, dtype=float32), DeviceArray(0.00265211, dtype=float32), DeviceArray(0.00251635, dtype=float32), DeviceArray(0.00286983, dtype=float32), DeviceArray(0.00280728, dtype=float32), DeviceArray(0.00278373, dtype=float32), DeviceArray(0.00247638, dtype=float32), DeviceArray(0.00337641, dtype=float32), DeviceArray(0.00336724, dtype=float32)]\n",
      "cs_out:  [DeviceArray(0.00055716, dtype=float32), DeviceArray(0.00062829, dtype=float32), DeviceArray(0.00064341, dtype=float32), DeviceArray(0.00073075, dtype=float32), DeviceArray(0.00074298, dtype=float32), DeviceArray(0.00083265, dtype=float32), DeviceArray(0.00077149, dtype=float32), DeviceArray(0.00083661, dtype=float32), DeviceArray(0.00077418, dtype=float32), DeviceArray(0.00102303, dtype=float32), DeviceArray(0.00101471, dtype=float32)]\n"
     ]
    }
   ],
   "source": [
    "# load mnist data\n",
    "train, train_eval, test_eval = get_data(\"mnist\",batch_size=100,format_fun=normalize)\n",
    "\n",
    "# cnn, loss, params\n",
    "net, xent_loss = network_and_loss(lenet_fn)\n",
    "\n",
    "key = jax.random.PRNGKey(42)\n",
    "params = net.init(key, next(train)[\"image\"])\n",
    "\n",
    "# optimization of network\n",
    "opt = optax.adam(1e-3)\n",
    "opt_state = opt.init(params)\n",
    "accuracy_fn = net_accuracy(net)\n",
    "\n",
    "cs_in = []\n",
    "cs_out = []\n",
    "\n",
    "def calc_coherence(loss_fn,mask):\n",
    "\n",
    "    # @jax.jit\n",
    "    def helper(\n",
    "      params: hk.Params,\n",
    "      batch: Batch,\n",
    "    ) -> Tuple[hk.Params, optax.OptState]:\n",
    "\n",
    "        ptwise_fn = ptwise(loss_fn)\n",
    "        pt_grads = ptwise_fn(params, batch)\n",
    "\n",
    "        c = get_coherence(pt_grads)\n",
    "\n",
    "        c_in, c_out= subnetwork_coherence(c, mask)\n",
    "        cs_in.append(c_in)\n",
    "        cs_out.append(c_out)\n",
    "\n",
    "    return helper\n",
    "    \n",
    "def train_fn_mask(mask, key):\n",
    "\n",
    "    # params = net.init(key, next(train)[\"image\"])\n",
    "    update_fn = masked_update(opt,xent_loss,mask)\n",
    "\n",
    "    # train\n",
    "    final_params = do_training(update_fn, accuracy_fn,params, opt_state, train, train_eval, test_eval,epochs=1001)\n",
    "\n",
    "    return final_params\n",
    "\n",
    "def train_fn_trace(mask):\n",
    "\n",
    "    update_fn = update_params(opt,xent_loss)\n",
    "    aux_fn = calc_coherence(xent_loss,mask)\n",
    "    final_params = do_training(\n",
    "                    update_fn, accuracy_fn, \n",
    "                    params, opt_state, \n",
    "                    train, train_eval, test_eval, \n",
    "                    epochs=1001, \n",
    "                    aux_fn=aux_fn,\n",
    "                    aux_epoch=100,\n",
    "                    )\n",
    "\n",
    "    return final_params\n",
    "\n",
    "\n",
    "masks, branches = imp(key,train_fn_mask,partial(threshold_prune,fraction=0.95),params,num_reps=2)\n",
    "\n",
    "train_fn_trace(masks[-1])\n",
    "\n",
    "print(\"cs_in: \", cs_in)\n",
    "print(\"cs_out: \", cs_out)"
   ]
  },
  {
   "cell_type": "code",
   "execution_count": 6,
   "metadata": {},
   "outputs": [
    {
     "data": {
      "text/plain": [
       "[<matplotlib.lines.Line2D at 0x7fd17807ad00>]"
      ]
     },
     "execution_count": 6,
     "metadata": {},
     "output_type": "execute_result"
    },
    {
     "data": {
      "image/png": "[encoded data removed]",
      "text/plain": [
       "<Figure size 432x288 with 1 Axes>"
      ]
     },
     "metadata": {
      "needs_background": "light"
     },
     "output_type": "display_data"
    }
   ],
   "source": [
    "import matplotlib.pyplot as plt\n",
    "plt.plot(cs_in)\n",
    "plt.plot(cs_out)"
   ]
  }
 ],
 "metadata": {
  "kernelspec": {
   "display_name": "Python 3.8.10 ('.env': venv)",
   "language": "python",
   "name": "python3"
  },
  "language_info": {
   "codemirror_mode": {
    "name": "ipython",
    "version": 3
   },
   "file_extension": ".py",
   "mimetype": "text/x-python",
   "name": "python",
   "nbconvert_exporter": "python",
   "pygments_lexer": "ipython3",
   "version": "3.8.10"
  },
  "orig_nbformat": 4,
  "vscode": {
   "interpreter": {
    "hash": "a67b96857c643ccdf3882a8bb2035047f1dbcf8da08008cf0e861a5c02cc2d97"
   }
  }
 },
 "nbformat": 4,
 "nbformat_minor": 2
}
