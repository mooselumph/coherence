{
 "cells": [
  {
   "cell_type": "code",
   "execution_count": 7,
   "metadata": {},
   "outputs": [],
   "source": [
    "import os\n",
    "import sys\n",
    "module_path = os.path.abspath(os.path.join('.'))\n",
    "if module_path not in sys.path:\n",
    "    sys.path.append(module_path)"
   ]
  },
  {
   "cell_type": "code",
   "execution_count": 8,
   "metadata": {},
   "outputs": [],
   "source": [
    "from typing import Tuple\n",
    "from custom_types import Batch\n",
    "\n",
    "import jax\n",
    "import jax.numpy as jnp\n",
    "\n",
    "import haiku as hk\n",
    "import optax\n",
    "\n",
    "from data import get_data, decimate, normalize\n",
    "from train import network_and_loss, do_training, update_params, net_accuracy\n",
    "from models.models import lenet_fn\n",
    "\n",
    "from pruning.pruning import masked_update, imp, threshold_prune\n",
    "\n",
    "from coherence.coherence import ptwise, get_coherence, subnetwork_coherence\n",
    "\n",
    "from functools import partial\n",
    "\n",
    "import utils"
   ]
  },
  {
   "cell_type": "code",
   "execution_count": 24,
   "metadata": {},
   "outputs": [
    {
     "name": "stderr",
     "output_type": "stream",
     "text": [
      "2022-07-19 21:15:46.239176: W tensorflow/core/kernels/data/cache_dataset_ops.cc:856] The calling iterator did not fully read the dataset being cached. In order to avoid unexpected truncation of the dataset, the partially cached contents of the dataset  will be discarded. This can happen if you have an input pipeline similar to `dataset.cache().take(k).repeat()`. You should use `dataset.take(k).cache().repeat()` instead.\n",
      "2022-07-19 21:15:46.248098: W tensorflow/core/kernels/data/cache_dataset_ops.cc:856] The calling iterator did not fully read the dataset being cached. In order to avoid unexpected truncation of the dataset, the partially cached contents of the dataset  will be discarded. This can happen if you have an input pipeline similar to `dataset.cache().take(k).repeat()`. You should use `dataset.take(k).cache().repeat()` instead.\n"
     ]
    },
    {
     "name": "stdout",
     "output_type": "stream",
     "text": [
      "[Step 0] Train / Test accuracy: 0.130 / 0.110.\n",
      "[Step 1000] Train / Test accuracy: 0.970 / 0.980.\n"
     ]
    }
   ],
   "source": [
    "# load mnist data\n",
    "train, train_eval, test_eval = get_data(\"mnist\",batch_size=100,format_fun=normalize)\n",
    "\n",
    "# cnn, loss, params\n",
    "net, xent_loss = network_and_loss(lenet_fn)\n",
    "\n",
    "key = jax.random.PRNGKey(42)\n",
    "params = net.init(key, next(train)[\"image\"])\n",
    "\n",
    "# optimization of network\n",
    "opt = optax.adam(1e-3)\n",
    "opt_state = opt.init(params)\n",
    "accuracy_fn = net_accuracy(net)\n",
    "\n",
    "hs = []\n",
    "\n",
    "def calc_coherence(loss_fn):\n",
    "\n",
    "    # @jax.jit\n",
    "    def helper(\n",
    "      params: hk.Params,\n",
    "      batch: Batch,\n",
    "    ) -> Tuple[hk.Params, optax.OptState]:\n",
    "\n",
    "        ptwise_fn = ptwise(loss_fn)\n",
    "        pt_grads = ptwise_fn(params, batch)\n",
    "\n",
    "        c = get_coherence(pt_grads)\n",
    "        c_flat = utils.ravel_pytree(c)\n",
    "\n",
    "        h = jnp.histogram(c_flat, bins=100)\n",
    "        hs.append(h)\n",
    "\n",
    "    return helper\n",
    "    \n",
    "\n",
    "\n",
    "def train_fn_trace():\n",
    "\n",
    "    update_fn = update_params(opt,xent_loss)\n",
    "    aux_fn = calc_coherence(xent_loss)\n",
    "    final_params = do_training(\n",
    "                    update_fn, accuracy_fn, \n",
    "                    params, opt_state, \n",
    "                    train, train_eval, test_eval, \n",
    "                    epochs=1001, \n",
    "                    aux_fn=aux_fn,\n",
    "                    aux_epoch=100,\n",
    "                    )\n",
    "\n",
    "    return final_params\n",
    "\n",
    "\n",
    "train_fn_trace();\n"
   ]
  },
  {
   "cell_type": "code",
   "execution_count": 30,
   "metadata": {},
   "outputs": [
    {
     "data": {
      "image/png": "[encoded data removed]",
      "text/plain": [
       "<Figure size 432x288 with 1 Axes>"
      ]
     },
     "metadata": {
      "needs_background": "light"
     },
     "output_type": "display_data"
    }
   ],
   "source": [
    "import matplotlib.pyplot as plt\n",
    "ind = 1\n",
    "plt.plot(hs[ind][1][:-1],hs[ind][0]);"
   ]
  },
  {
   "cell_type": "code",
   "execution_count": 14,
   "metadata": {},
   "outputs": [
    {
     "data": {
      "text/plain": [
       "(DeviceArray([2.49423e+05, 1.35790e+04, 2.33400e+03, 7.65000e+02,\n",
       "              2.78000e+02, 9.80000e+01, 7.10000e+01, 2.80000e+01,\n",
       "              1.60000e+01, 8.00000e+00, 5.00000e+00, 2.00000e+00,\n",
       "              1.00000e+00, 1.00000e+00, 0.00000e+00, 0.00000e+00,\n",
       "              0.00000e+00, 0.00000e+00, 0.00000e+00, 1.00000e+00],            dtype=float32),\n",
       " DeviceArray([0.        , 0.00219338, 0.00438676, 0.00658014, 0.00877352,\n",
       "              0.0109669 , 0.01316028, 0.01535366, 0.01754704, 0.01974042,\n",
       "              0.0219338 , 0.02412718, 0.02632056, 0.02851394, 0.03070732,\n",
       "              0.0329007 , 0.03509408, 0.03728746, 0.03948084, 0.04167422,\n",
       "              0.0438676 ], dtype=float32))"
      ]
     },
     "execution_count": 14,
     "metadata": {},
     "output_type": "execute_result"
    }
   ],
   "source": [
    "hs[0]"
   ]
  }
 ],
 "metadata": {
  "kernelspec": {
   "display_name": "Python 3.8.10 ('.env': venv)",
   "language": "python",
   "name": "python3"
  },
  "language_info": {
   "codemirror_mode": {
    "name": "ipython",
    "version": 3
   },
   "file_extension": ".py",
   "mimetype": "text/x-python",
   "name": "python",
   "nbconvert_exporter": "python",
   "pygments_lexer": "ipython3",
   "version": "3.8.10"
  },
  "orig_nbformat": 4,
  "vscode": {
   "interpreter": {
    "hash": "a67b96857c643ccdf3882a8bb2035047f1dbcf8da08008cf0e861a5c02cc2d97"
   }
  }
 },
 "nbformat": 4,
 "nbformat_minor": 2
}
